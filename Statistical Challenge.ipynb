{
 "cells": [
  {
   "cell_type": "code",
   "execution_count": 1,
   "metadata": {},
   "outputs": [],
   "source": [
    "import pandas as pd\n",
    "import numpy as np"
   ]
  },
  {
   "cell_type": "code",
   "execution_count": 2,
   "metadata": {},
   "outputs": [],
   "source": [
    "df = pd.read_csv('train.csv')"
   ]
  },
  {
   "cell_type": "code",
   "execution_count": 3,
   "metadata": {
    "scrolled": true
   },
   "outputs": [
    {
     "data": {
      "text/plain": [
       "Index(['AnimalID', 'Name', 'DateTime', 'OutcomeType', 'OutcomeSubtype',\n",
       "       'AnimalType', 'SexuponOutcome', 'AgeuponOutcome', 'Breed', 'Color'],\n",
       "      dtype='object')"
      ]
     },
     "execution_count": 3,
     "metadata": {},
     "output_type": "execute_result"
    }
   ],
   "source": [
    "df.columns"
   ]
  },
  {
   "cell_type": "code",
   "execution_count": 4,
   "metadata": {},
   "outputs": [
    {
     "data": {
      "text/html": [
       "<div>\n",
       "<style scoped>\n",
       "    .dataframe tbody tr th:only-of-type {\n",
       "        vertical-align: middle;\n",
       "    }\n",
       "\n",
       "    .dataframe tbody tr th {\n",
       "        vertical-align: top;\n",
       "    }\n",
       "\n",
       "    .dataframe thead th {\n",
       "        text-align: right;\n",
       "    }\n",
       "</style>\n",
       "<table border=\"1\" class=\"dataframe\">\n",
       "  <thead>\n",
       "    <tr style=\"text-align: right;\">\n",
       "      <th></th>\n",
       "      <th>AnimalID</th>\n",
       "      <th>Name</th>\n",
       "      <th>DateTime</th>\n",
       "      <th>OutcomeType</th>\n",
       "      <th>OutcomeSubtype</th>\n",
       "      <th>AnimalType</th>\n",
       "      <th>SexuponOutcome</th>\n",
       "      <th>AgeuponOutcome</th>\n",
       "      <th>Breed</th>\n",
       "      <th>Color</th>\n",
       "    </tr>\n",
       "  </thead>\n",
       "  <tbody>\n",
       "    <tr>\n",
       "      <td>0</td>\n",
       "      <td>A671945</td>\n",
       "      <td>Hambone</td>\n",
       "      <td>2014-02-12 18:22:00</td>\n",
       "      <td>Return_to_owner</td>\n",
       "      <td>NaN</td>\n",
       "      <td>Dog</td>\n",
       "      <td>Neutered Male</td>\n",
       "      <td>1 year</td>\n",
       "      <td>Shetland Sheepdog Mix</td>\n",
       "      <td>Brown/White</td>\n",
       "    </tr>\n",
       "    <tr>\n",
       "      <td>1</td>\n",
       "      <td>A656520</td>\n",
       "      <td>Emily</td>\n",
       "      <td>2013-10-13 12:44:00</td>\n",
       "      <td>Euthanasia</td>\n",
       "      <td>Suffering</td>\n",
       "      <td>Cat</td>\n",
       "      <td>Spayed Female</td>\n",
       "      <td>1 year</td>\n",
       "      <td>Domestic Shorthair Mix</td>\n",
       "      <td>Cream Tabby</td>\n",
       "    </tr>\n",
       "    <tr>\n",
       "      <td>2</td>\n",
       "      <td>A686464</td>\n",
       "      <td>Pearce</td>\n",
       "      <td>2015-01-31 12:28:00</td>\n",
       "      <td>Adoption</td>\n",
       "      <td>Foster</td>\n",
       "      <td>Dog</td>\n",
       "      <td>Neutered Male</td>\n",
       "      <td>2 years</td>\n",
       "      <td>Pit Bull Mix</td>\n",
       "      <td>Blue/White</td>\n",
       "    </tr>\n",
       "    <tr>\n",
       "      <td>3</td>\n",
       "      <td>A683430</td>\n",
       "      <td>NaN</td>\n",
       "      <td>2014-07-11 19:09:00</td>\n",
       "      <td>Transfer</td>\n",
       "      <td>Partner</td>\n",
       "      <td>Cat</td>\n",
       "      <td>Intact Male</td>\n",
       "      <td>3 weeks</td>\n",
       "      <td>Domestic Shorthair Mix</td>\n",
       "      <td>Blue Cream</td>\n",
       "    </tr>\n",
       "    <tr>\n",
       "      <td>4</td>\n",
       "      <td>A667013</td>\n",
       "      <td>NaN</td>\n",
       "      <td>2013-11-15 12:52:00</td>\n",
       "      <td>Transfer</td>\n",
       "      <td>Partner</td>\n",
       "      <td>Dog</td>\n",
       "      <td>Neutered Male</td>\n",
       "      <td>2 years</td>\n",
       "      <td>Lhasa Apso/Miniature Poodle</td>\n",
       "      <td>Tan</td>\n",
       "    </tr>\n",
       "  </tbody>\n",
       "</table>\n",
       "</div>"
      ],
      "text/plain": [
       "  AnimalID     Name             DateTime      OutcomeType OutcomeSubtype  \\\n",
       "0  A671945  Hambone  2014-02-12 18:22:00  Return_to_owner            NaN   \n",
       "1  A656520    Emily  2013-10-13 12:44:00       Euthanasia      Suffering   \n",
       "2  A686464   Pearce  2015-01-31 12:28:00         Adoption         Foster   \n",
       "3  A683430      NaN  2014-07-11 19:09:00         Transfer        Partner   \n",
       "4  A667013      NaN  2013-11-15 12:52:00         Transfer        Partner   \n",
       "\n",
       "  AnimalType SexuponOutcome AgeuponOutcome                        Breed  \\\n",
       "0        Dog  Neutered Male         1 year        Shetland Sheepdog Mix   \n",
       "1        Cat  Spayed Female         1 year       Domestic Shorthair Mix   \n",
       "2        Dog  Neutered Male        2 years                 Pit Bull Mix   \n",
       "3        Cat    Intact Male        3 weeks       Domestic Shorthair Mix   \n",
       "4        Dog  Neutered Male        2 years  Lhasa Apso/Miniature Poodle   \n",
       "\n",
       "         Color  \n",
       "0  Brown/White  \n",
       "1  Cream Tabby  \n",
       "2   Blue/White  \n",
       "3   Blue Cream  \n",
       "4          Tan  "
      ]
     },
     "execution_count": 4,
     "metadata": {},
     "output_type": "execute_result"
    }
   ],
   "source": [
    "df.head()"
   ]
  },
  {
   "cell_type": "code",
   "execution_count": 5,
   "metadata": {},
   "outputs": [
    {
     "data": {
      "text/plain": [
       "array(['Dog', 'Cat'], dtype=object)"
      ]
     },
     "execution_count": 5,
     "metadata": {},
     "output_type": "execute_result"
    }
   ],
   "source": [
    "df.AnimalType.unique()"
   ]
  },
  {
   "cell_type": "code",
   "execution_count": 28,
   "metadata": {},
   "outputs": [
    {
     "data": {
      "text/plain": [
       "array(['1 year', '2 years', '3 weeks', '1 month', '5 months', '4 years',\n",
       "       '3 months', '2 weeks', '2 months', '10 months', '6 months',\n",
       "       '5 years', '7 years', '3 years', '4 months', '12 years', '9 years',\n",
       "       '6 years', '1 weeks', '11 years', '4 weeks', '7 months', '8 years',\n",
       "       '11 months', '4 days', '9 months', '8 months', '15 years',\n",
       "       '10 years', '1 week', '0 years', '14 years', '3 days', '6 days',\n",
       "       '5 days', '5 weeks', '2 days', '16 years', '1 day', '13 years',\n",
       "       nan, '17 years', '18 years', '19 years', '20 years'], dtype=object)"
      ]
     },
     "execution_count": 28,
     "metadata": {},
     "output_type": "execute_result"
    }
   ],
   "source": [
    "df.AgeuponOutcome.unique()"
   ]
  },
  {
   "cell_type": "code",
   "execution_count": 33,
   "metadata": {},
   "outputs": [],
   "source": [
    "df.loc[df['AgeuponOutcome'].str.startswith('1 year',na=False), 'AgeuponOutcome'] = 54\n",
    "df.loc[df['AgeuponOutcome'].str.startswith('2 years',na=False), 'AgeuponOutcome'] = 104\n",
    "df.loc[df['AgeuponOutcome'].str.startswith('3 weeks',na=False), 'AgeuponOutcome'] = 3\n",
    "df.loc[df['AgeuponOutcome'].str.startswith('1 month',na=False), 'AgeuponOutcome'] = 4\n",
    "df.loc[df['AgeuponOutcome'].str.startswith('5 months',na=False), 'AgeuponOutcome'] = 20\n",
    "df.loc[df['AgeuponOutcome'].str.startswith('4 years',na=False), 'AgeuponOutcome'] = 208\n",
    "df.loc[df['AgeuponOutcome'].str.startswith('3 months',na=False), 'AgeuponOutcome'] = 12\n",
    "\n",
    "df.loc[df['AgeuponOutcome'].str.startswith('2 weeks',na=False), 'AgeuponOutcome'] = 2\n",
    "df.loc[df['AgeuponOutcome'].str.startswith('2 months',na=False), 'AgeuponOutcome'] = 8\n",
    "df.loc[df['AgeuponOutcome'].str.startswith('10 months',na=False), 'AgeuponOutcome'] = 40\n",
    "df.loc[df['AgeuponOutcome'].str.startswith('6 months',na=False), 'AgeuponOutcome'] = 24\n",
    "df.loc[df['AgeuponOutcome'].str.startswith('5 years',na=False), 'AgeuponOutcome'] = 260\n",
    "df.loc[df['AgeuponOutcome'].str.startswith('7 years',na=False), 'AgeuponOutcome'] = 364\n",
    "df.loc[df['AgeuponOutcome'].str.startswith('3 years',na=False), 'AgeuponOutcome'] = 156\n",
    "\n",
    "df.loc[df['AgeuponOutcome'].str.startswith('4 months',na=False), 'AgeuponOutcome'] = 16\n",
    "df.loc[df['AgeuponOutcome'].str.startswith('7 months',na=False), 'AgeuponOutcome'] = 28\n",
    "df.loc[df['AgeuponOutcome'].str.startswith('8 years',na=False), 'AgeuponOutcome'] = 416\n",
    "df.loc[df['AgeuponOutcome'].str.startswith('11 months',na=False), 'AgeuponOutcome'] = 44\n",
    "df.loc[df['AgeuponOutcome'].str.startswith('9 months',na=False), 'AgeuponOutcome'] = 36\n",
    "df.loc[df['AgeuponOutcome'].str.startswith('8 months',na=False), 'AgeuponOutcome'] = 32\n",
    "df.loc[df['AgeuponOutcome'].str.startswith('15 years',na=False), 'AgeuponOutcome'] = 780\n"
   ]
  },
  {
   "cell_type": "code",
   "execution_count": 6,
   "metadata": {},
   "outputs": [
    {
     "data": {
      "text/plain": [
       "Adoption           10769\n",
       "Transfer            9422\n",
       "Return_to_owner     4786\n",
       "Euthanasia          1555\n",
       "Died                 197\n",
       "Name: OutcomeType, dtype: int64"
      ]
     },
     "execution_count": 6,
     "metadata": {},
     "output_type": "execute_result"
    }
   ],
   "source": [
    "data = df.OutcomeType.unique()\n",
    "df.OutcomeType.value_counts()"
   ]
  },
  {
   "cell_type": "code",
   "execution_count": 7,
   "metadata": {},
   "outputs": [],
   "source": [
    "def prop(df, value):\n",
    "    var = df[df.OutcomeType==value]\n",
    "    print(value)\n",
    "    print(len(var)/len(df))"
   ]
  },
  {
   "cell_type": "code",
   "execution_count": null,
   "metadata": {},
   "outputs": [],
   "source": []
  },
  {
   "cell_type": "code",
   "execution_count": 8,
   "metadata": {},
   "outputs": [],
   "source": [
    "cat = df[df.AnimalType == 'Cat']"
   ]
  },
  {
   "cell_type": "code",
   "execution_count": 9,
   "metadata": {},
   "outputs": [
    {
     "name": "stdout",
     "output_type": "stream",
     "text": [
      "Return_to_owner\n",
      "0.04490749056942698\n",
      "Euthanasia\n",
      "0.06376863660858631\n",
      "Adoption\n",
      "0.3836895994251841\n",
      "Transfer\n",
      "0.49443147116939107\n",
      "Died\n",
      "0.013202802227411532\n"
     ]
    }
   ],
   "source": [
    "for value in data:\n",
    "    prop(cat, value)"
   ]
  },
  {
   "cell_type": "code",
   "execution_count": 10,
   "metadata": {},
   "outputs": [
    {
     "name": "stdout",
     "output_type": "stream",
     "text": [
      "Return_to_owner\n",
      "0.27483167681949344\n",
      "Euthanasia\n",
      "0.05418403334402052\n",
      "Adoption\n",
      "0.41660788714331515\n",
      "Transfer\n",
      "0.2511702468739981\n",
      "Died\n",
      "0.0032061558191728116\n"
     ]
    }
   ],
   "source": [
    "dog = df[df.AnimalType == 'Dog']\n",
    "for value in data:\n",
    "    prop(dog, value)"
   ]
  },
  {
   "cell_type": "code",
   "execution_count": 11,
   "metadata": {},
   "outputs": [
    {
     "data": {
      "text/plain": [
       "array(['Neutered Male', 'Spayed Female', 'Intact Male', 'Intact Female',\n",
       "       'Unknown', nan], dtype=object)"
      ]
     },
     "execution_count": 11,
     "metadata": {},
     "output_type": "execute_result"
    }
   ],
   "source": [
    "df.SexuponOutcome.unique()"
   ]
  },
  {
   "cell_type": "code",
   "execution_count": 16,
   "metadata": {},
   "outputs": [
    {
     "name": "stdout",
     "output_type": "stream",
     "text": [
      "MALE\n",
      "Return_to_owner\n",
      "0.2047504509921828\n",
      "Euthanasia\n",
      "0.06171076368009621\n",
      "Adoption\n",
      "0.40438965724594106\n",
      "Transfer\n",
      "0.32178292242934453\n",
      "Died\n",
      "0.007366205652435358\n",
      "FEMALE\n",
      "Return_to_owner\n",
      "0.1661665720541724\n",
      "Euthanasia\n",
      "0.05133403616900495\n",
      "Adoption\n",
      "0.43702862703754763\n",
      "Transfer\n",
      "0.33946962938934394\n",
      "Died\n",
      "0.006001135349931068\n"
     ]
    }
   ],
   "source": [
    "male = df[(df.SexuponOutcome == 'Neutered Male') | (df.SexuponOutcome == 'Intact Male') ]\n",
    "female = df[(df.SexuponOutcome == 'Spayed Female') | (df.SexuponOutcome == 'Intact Female') ]\n",
    "print ('MALE')\n",
    "for value in data:\n",
    "    prop(male, value)\n",
    "print ('FEMALE')\n",
    "for value in data:\n",
    "    prop(female, value)"
   ]
  },
  {
   "cell_type": "code",
   "execution_count": 17,
   "metadata": {},
   "outputs": [],
   "source": [
    "def prop(df, value):\n",
    "    var = df[df.OutcomeType==value]\n",
    "    return(len(var)/len(df))"
   ]
  },
  {
   "cell_type": "code",
   "execution_count": 27,
   "metadata": {},
   "outputs": [
    {
     "name": "stdout",
     "output_type": "stream",
     "text": [
      "Return_to_owner\n",
      "0.2600729193218638\n",
      "Euthanasia\n",
      "0.339872389276868\n",
      "Adoption\n",
      "3.439699695671512e-23\n",
      "Transfer\n",
      "0.0693160589277285\n",
      "Died\n",
      "0.0005182404368703555\n"
     ]
    }
   ],
   "source": [
    "from statsmodels.stats.proportion import proportions_ztest\n",
    "\n",
    "for value in data:\n",
    "    proportion = prop(male, value)\n",
    "    ttl = prop(df, value)\n",
    "    print(value)\n",
    "    if proportion > ttl:\n",
    "        print(proportions_ztest(ttl,proportion, 0.05)[1])\n",
    "    else:\n",
    "        print(proportions_ztest(proportion, ttl, 0.05)[1])"
   ]
  },
  {
   "cell_type": "code",
   "execution_count": 38,
   "metadata": {},
   "outputs": [],
   "source": [
    "df['month'] = pd.DatetimeIndex(df['DateTime']).month"
   ]
  },
  {
   "cell_type": "code",
   "execution_count": 42,
   "metadata": {},
   "outputs": [
    {
     "ename": "TypeError",
     "evalue": "count() takes 1 positional argument but 2 were given",
     "output_type": "error",
     "traceback": [
      "\u001b[0;31m---------------------------------------------------------------------------\u001b[0m",
      "\u001b[0;31mTypeError\u001b[0m                                 Traceback (most recent call last)",
      "\u001b[0;32m<ipython-input-42-09dad325d330>\u001b[0m in \u001b[0;36m<module>\u001b[0;34m\u001b[0m\n\u001b[0;32m----> 1\u001b[0;31m \u001b[0mdf2\u001b[0m \u001b[0;34m=\u001b[0m \u001b[0mdf\u001b[0m\u001b[0;34m.\u001b[0m\u001b[0mgroupby\u001b[0m\u001b[0;34m(\u001b[0m\u001b[0;34m[\u001b[0m\u001b[0;34m'month'\u001b[0m\u001b[0;34m]\u001b[0m\u001b[0;34m)\u001b[0m\u001b[0;34m.\u001b[0m\u001b[0mcount\u001b[0m\u001b[0;34m(\u001b[0m\u001b[0mdf\u001b[0m\u001b[0;34m.\u001b[0m\u001b[0mOutcomeType\u001b[0m \u001b[0;34m==\u001b[0m \u001b[0;34m'Adoption'\u001b[0m\u001b[0;34m)\u001b[0m\u001b[0;34m\u001b[0m\u001b[0;34m\u001b[0m\u001b[0m\n\u001b[0m\u001b[1;32m      2\u001b[0m \u001b[0;34m\u001b[0m\u001b[0m\n\u001b[1;32m      3\u001b[0m \u001b[0;31m# sns.barplot(x='month',y='OutcomeType', data=df)\u001b[0m\u001b[0;34m\u001b[0m\u001b[0;34m\u001b[0m\u001b[0;34m\u001b[0m\u001b[0m\n\u001b[1;32m      4\u001b[0m \u001b[0;31m# plt.show()\u001b[0m\u001b[0;34m\u001b[0m\u001b[0;34m\u001b[0m\u001b[0;34m\u001b[0m\u001b[0m\n",
      "\u001b[0;31mTypeError\u001b[0m: count() takes 1 positional argument but 2 were given"
     ]
    }
   ],
   "source": [
    "df2 = df.groupby(['month']).count(df.OutcomeType == 'Adoption')\n",
    "\n",
    "# sns.barplot(x='month',y='OutcomeType', data=df)\n",
    "# plt.show()"
   ]
  },
  {
   "cell_type": "code",
   "execution_count": null,
   "metadata": {},
   "outputs": [],
   "source": []
  }
 ],
 "metadata": {
  "kernelspec": {
   "display_name": "Python 3",
   "language": "python",
   "name": "python3"
  },
  "language_info": {
   "codemirror_mode": {
    "name": "ipython",
    "version": 3
   },
   "file_extension": ".py",
   "mimetype": "text/x-python",
   "name": "python",
   "nbconvert_exporter": "python",
   "pygments_lexer": "ipython3",
   "version": "3.6.8"
  }
 },
 "nbformat": 4,
 "nbformat_minor": 2
}
